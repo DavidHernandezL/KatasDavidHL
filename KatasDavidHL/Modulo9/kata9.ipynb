{
 "cells": [
  {
   "cell_type": "markdown",
   "metadata": {},
   "source": [
    "Ejercicio: Uso de funciones en Python\n",
    "Ejercicio 1: Trabajar con argumentos en funciones\n",
    "Los argumentos requeridos en las funciones se utilizan cuando las funciones necesitan que esos argumentos funcionen correctamente. En este ejercicio, construirás un informe de combustible que requiere información de varias ubicaciones de combustible en todo el cohete.\n",
    "\n",
    "Comienza por crear una función que necesite tres lecturas de combustible y devuelva un informe:\n",
    "\n",
    "\n",
    "Ahora que hemos definido la función de informes, vamos a comprobarlo. Para esta misión, los tanques no están llenos:\n",
    "\n",
    "\n",
    "En lugar de simplemente crear el informe, la función también está calculando el promedio. Mejora la legibilidad extrayendo el cálculo promedio de la función en una nueva función para que el promedio se pueda hacer de forma independiente:\n",
    "\n",
    "\n",
    "Ahora actualiza la función de informes para llamando a la nueva función del promedio:\n",
    "\n",
    "\n"
   ]
  },
  {
   "cell_type": "code",
   "execution_count": 2,
   "metadata": {},
   "outputs": [
    {
     "name": "stdout",
     "output_type": "stream",
     "text": [
      "\n",
      "  El primer tanque tiene: 0\n",
      "  El segundo tanque tiene: 0\n",
      "  El tercer tanque tiene: 0\n",
      "  El promedio es: 0.0\n",
      "  \n"
     ]
    }
   ],
   "source": [
    "# Función para leer 3 tanques de combustible y muestre el promedio\n",
    "# Actualiza la función\n",
    "def informeCombustible(tanque1, tanque2, tanque3):\n",
    "  promedio = calcularPromedio(tanque1, tanque2, tanque3)\n",
    "  return f\"\"\"\n",
    "  El primer tanque tiene: {tanque1}\n",
    "  El segundo tanque tiene: {tanque2}\n",
    "  El tercer tanque tiene: {tanque3}\n",
    "  El promedio es: {promedio}\n",
    "  \"\"\"\n",
    "\n",
    "# Función promedio \n",
    "def calcularPromedio (tanque1, tanque2 ,tanque3):\n",
    "  return (tanque1 + tanque2 + tanque3) / 3\n",
    "# Llamamos a la función que genera el reporte print(funcion(tanque1, tanque2, tanque3))\n",
    "print(informeCombustible(0, 0, 0))\n"
   ]
  },
  {
   "cell_type": "markdown",
   "metadata": {},
   "source": [
    "Ejercicio 2: Trabajo con argumentos de palabra clave\n",
    "Ejercicio : Trabajar con argumentos de palabras clave en funciones\n",
    "En este ejercicio, construirás un informe de cohete que requiere varias piezas de información, como el tiempo hasta el destino, el combustible a la izquierda y el nombre del destino. Comienza por crear una función que creará un informe preciso de la misión:\n",
    "\n",
    "\n",
    "La función es problemática porque no se puede adaptar para minutos adicionales o tanques adicionales de combustible. Hazlo más flexible permitiendo cualquier número de pasos basados en el tiempo y cualquier número de tanques. En lugar de usar *args y **kwargs, aprovecha el hecho de que puedes usar cualquier nombre que desees. Asegurate que la función sea más legible mediante el uso de nombres de variables que están asociados con las entradas, como *minutes y **fuel_reservoirs:\n",
    "\n",
    "\n",
    "Debido a que el combustible que queda en los tanques es específico de cada tanque, actualiza la función para usar el nombre de cada tanque en el informe:\n",
    "\n"
   ]
  },
  {
   "cell_type": "code",
   "execution_count": 10,
   "metadata": {},
   "outputs": [
    {
     "name": "stdout",
     "output_type": "stream",
     "text": [
      "\n",
      "  El tiempo de vuelo es: 74\n",
      "  Lugar destino: Moon\n",
      "\n",
      "  main tiene: 300000\n",
      "external tiene: 200000\n",
      "\n"
     ]
    }
   ],
   "source": [
    "# Función con un informe preciso de la misión. Considera hora de prelanzamiento, tiempo de vuelo, destino, tanque externo y tanque interno\n",
    "def crearInforme1(prelanzamiento, tiempoVuelo, destino, tanque_ext, tanque_int):\n",
    "  return f\"\"\"\n",
    "  La hora de prelanzamiento es: {prelanzamiento}\n",
    "  El tiempo de vuelo es: {tiempoVuelo}\n",
    "  Lugar destino: {destino}\n",
    "  El tanque externo contiene:{tanque_ext}\n",
    "  El tanque interno contiene:{tanque_int}\n",
    "  \"\"\"\n",
    "\n",
    "# Escribe tu nueva función de reporte considerando lo anterior\n",
    "def crearInforme2(prelanzamiento,destino, *minutes, **tanques):\n",
    "  return f\"\"\"\n",
    "  La hora de prelanzamiento es: {prelanzamiento}\n",
    "  El tiempo de vuelo es: {sum(minutes)}\n",
    "  Lugar destino: {destino}\n",
    "  Total de gasolina: {sum(tanques)}\n",
    "  \"\"\"\n",
    "\n",
    "# Escribe tu nueva función\n",
    "def crearInforme3(destino, *minutes, **tanques):\n",
    "  reporte = f\"\"\"\n",
    "  El tiempo de vuelo es: {sum(minutes)}\n",
    "  Lugar destino: {destino}\\n\n",
    "  \"\"\"\n",
    "\n",
    "  reporteComb = ''\n",
    "\n",
    "  for tanque,cantidad in tanques.items():\n",
    "    reporteComb += f'{tanque} tiene: {cantidad}\\n'\n",
    "\n",
    "  return reporte + reporteComb\n",
    "\n",
    "print(crearInforme3(\"Moon\", 8,11, 55, main=300000, external=200000))"
   ]
  }
 ],
 "metadata": {
  "interpreter": {
   "hash": "0a4c661d199a05ca25313c12e005ac137af6088ee425dd9950f4e1e4987abe55"
  },
  "kernelspec": {
   "display_name": "Python 3.10.2 64-bit (windows store)",
   "language": "python",
   "name": "python3"
  },
  "language_info": {
   "codemirror_mode": {
    "name": "ipython",
    "version": 3
   },
   "file_extension": ".py",
   "mimetype": "text/x-python",
   "name": "python",
   "nbconvert_exporter": "python",
   "pygments_lexer": "ipython3",
   "version": "3.10.2"
  },
  "orig_nbformat": 4
 },
 "nbformat": 4,
 "nbformat_minor": 2
}
