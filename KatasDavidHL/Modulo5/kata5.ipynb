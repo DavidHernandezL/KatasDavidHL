{
 "cells": [
  {
   "cell_type": "markdown",
   "metadata": {},
   "source": [
    "# Ejercicio1 - Utilizar operadores aritméticos"
   ]
  },
  {
   "cell_type": "code",
   "execution_count": 1,
   "metadata": {},
   "outputs": [
    {
     "name": "stdout",
     "output_type": "stream",
     "text": [
      "Distancia en kilometros:  628949330\n",
      "La distancia en millas es:  390577533.93\n"
     ]
    }
   ],
   "source": [
    "# Crear variables para almacenar las dos distancias\n",
    "# ¡Asegúrate de quitar las comas!\n",
    "\n",
    "planetaDistancia1 = 149597870\n",
    "planetaDistancia2 = 778547200\n",
    "\n",
    "# Calcular la distancia entre planetas\n",
    "\n",
    "distancia = planetaDistancia2 - planetaDistancia1\n",
    "\n",
    "distanciaMillas = distancia * 0.621\n",
    "\n",
    "print('Distancia en kilometros: ',distancia)\n",
    "print('La distancia en millas es: ',distanciaMillas)"
   ]
  },
  {
   "cell_type": "markdown",
   "metadata": {},
   "source": [
    "# Ejercicio 2: convierte cadenas en números y usa valores absolutos"
   ]
  },
  {
   "cell_type": "code",
   "execution_count": 2,
   "metadata": {},
   "outputs": [
    {
     "name": "stdout",
     "output_type": "stream",
     "text": [
      "31236300.0\n"
     ]
    }
   ],
   "source": [
    "# Almacenar las entradas del usuario\n",
    "#Pista: variable = input(\"¿Cuál es tu nombre?\")\n",
    "\n",
    "planetaDistancia1 = input('Ingrese la distancia 1: ')\n",
    "planetaDistancia2 = input('Ingrese la distancia 2: ')\n",
    "\n",
    "# Convierte las cadenas de ambos planetas a números enteros\n",
    "\n",
    "planetaDistancia1 = int(planetaDistancia1)\n",
    "planetaDistancia2 = int(planetaDistancia2)\n",
    "\n",
    "# Realizar el cálculo y determinar el valor absoluto\n",
    "\n",
    "distancia = planetaDistancia1 - planetaDistancia2\n",
    "\n",
    "\n",
    "# Convertir de KM a Millas\n",
    "\n",
    "distanciaMillas = abs(distancia * 0.621)\n",
    "print(distanciaMillas)"
   ]
  }
 ],
 "metadata": {
  "interpreter": {
   "hash": "0a4c661d199a05ca25313c12e005ac137af6088ee425dd9950f4e1e4987abe55"
  },
  "kernelspec": {
   "display_name": "Python 3.10.2 64-bit (windows store)",
   "language": "python",
   "name": "python3"
  },
  "language_info": {
   "codemirror_mode": {
    "name": "ipython",
    "version": 3
   },
   "file_extension": ".py",
   "mimetype": "text/x-python",
   "name": "python",
   "nbconvert_exporter": "python",
   "pygments_lexer": "ipython3",
   "version": "3.10.2"
  },
  "orig_nbformat": 4
 },
 "nbformat": 4,
 "nbformat_minor": 2
}
