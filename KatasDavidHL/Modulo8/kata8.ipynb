{
 "cells": [
  {
   "cell_type": "markdown",
   "metadata": {},
   "source": [
    "Ejercicio 1: Creación de diccionarios de Python\n",
    "Ejercicio: Crear y modificar un diccionario de Python\n",
    "\n",
    "name: Mars\n",
    "moons: 2\n",
    "\n",
    "\n",
    "\n",
    "Agrega un nuevo valor con una clave de 'circunferencia (km)'. Este nuevo valor debería almacenar un diccionario con las dos circunferencias del planeta:\n",
    "\n",
    "polar: 6752\n",
    "equatorial: 6792\n",
    "\n",
    "Imprime el nombre del planeta con su circunferencia polar.\n"
   ]
  },
  {
   "cell_type": "code",
   "execution_count": 6,
   "metadata": {},
   "outputs": [
    {
     "name": "stdout",
     "output_type": "stream",
     "text": [
      "Nombre:  Mars  Numero de lunas:  2\n",
      "Nombre:  Mars  Circunferencia polar:  6752\n"
     ]
    }
   ],
   "source": [
    "# Crea un diccionario llamado planet con los datos propuestos\n",
    "\n",
    "planetas = {\n",
    "  'name': 'Mars',\n",
    "  'moon': 2\n",
    "}\n",
    "\n",
    "# Muestra el nombre del planeta y el número de lunas que tiene.\n",
    "\n",
    "print('Nombre: ',planetas.get('name'),' Numero de lunas: ',planetas.get('moon'))\n",
    "\n",
    "# Agrega la clave circunferencia con los datos proporcionados previamente\n",
    "\n",
    "planetas['diametro'] = {\n",
    "  'polar': 6752,\n",
    "  'equatorial': 6792\n",
    "}\n",
    "\n",
    "# Imprime el nombre del planeta con su circunferencia polar.\n",
    "print('Nombre: ',planetas.get('name'),' Circunferencia polar: ',planetas['diametro']['polar'])"
   ]
  },
  {
   "cell_type": "markdown",
   "metadata": {},
   "source": [
    "Ejercicio 2: Programación dinámica con diccionarios\n",
    "Ejercicio: Cálculo de valores\n",
    "En este escenario, calcularás tanto el número total de lunas en el sistema solar como el número promedio de lunas que tiene un planeta.\n",
    "\n",
    "\n",
    "Agrega el código a continuación para determinar el número de lunas. Comienza almacenando el valor values de planet_moons en una variable denominada moons. A continuación, almacena el número de planetas en una variable denominada planets.\n",
    "\n",
    "Agrega el código para contar el número de lunas. Puedes hacerlo creando un ciclo for para iterar a través de las lunas moons y agregándolos a una variable denominada total_moons. Finalmente calcule el promedio dividiendo total_moons por planets e imprimiendo los resultados.\n",
    "\n",
    "# Agrega el código para contar el número de lunas. "
   ]
  },
  {
   "cell_type": "code",
   "execution_count": 10,
   "metadata": {},
   "outputs": [
    {
     "name": "stdout",
     "output_type": "stream",
     "text": [
      "Total de lunas:  214\n",
      "Promedio de lunas:  17.833333333333332\n"
     ]
    }
   ],
   "source": [
    "# Planets and moons\n",
    "\n",
    "planet_moons = {\n",
    "    'mercury': 0,\n",
    "    'venus': 0,\n",
    "    'earth': 1,\n",
    "    'mars': 2,\n",
    "    'jupiter': 79,\n",
    "    'saturn': 82,\n",
    "    'uranus': 27,\n",
    "    'neptune': 14,\n",
    "    'pluto': 5,\n",
    "    'haumea': 2,\n",
    "    'makemake': 1,\n",
    "    'eris': 1\n",
    "}\n",
    "\n",
    "moons = []\n",
    "planets = 0\n",
    "total_moons = 0\n",
    "# Añade el código para determinar el número de lunas.\n",
    "for moon in planet_moons.values():\n",
    "  moons.append(moon)\n",
    "  total_moons += moon \n",
    "  planets += 1\n",
    "\n",
    "promedio = total_moons / planets\n",
    "\n",
    "print('Total de lunas: ',total_moons)\n",
    "print('Promedio de lunas: ',promedio)"
   ]
  }
 ],
 "metadata": {
  "interpreter": {
   "hash": "0a4c661d199a05ca25313c12e005ac137af6088ee425dd9950f4e1e4987abe55"
  },
  "kernelspec": {
   "display_name": "Python 3.10.2 64-bit (windows store)",
   "language": "python",
   "name": "python3"
  },
  "language_info": {
   "codemirror_mode": {
    "name": "ipython",
    "version": 3
   },
   "file_extension": ".py",
   "mimetype": "text/x-python",
   "name": "python",
   "nbconvert_exporter": "python",
   "pygments_lexer": "ipython3",
   "version": "3.10.2"
  },
  "orig_nbformat": 4
 },
 "nbformat": 4,
 "nbformat_minor": 2
}
