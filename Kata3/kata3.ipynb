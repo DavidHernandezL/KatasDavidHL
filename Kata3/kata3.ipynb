{
 "cells": [
  {
   "cell_type": "markdown",
   "metadata": {},
   "source": [
    "# Añadir el código necesario para crear una variable que guarde la velocidad del asteroide.\n",
    "# Escribe una expresión de prueba para calcular si necesita una advertencia.\n",
    "# Agregue las instrucciones que se ejecutarán si la expresión de prueba es true o false."
   ]
  },
  {
   "cell_type": "markdown",
   "metadata": {},
   "source": []
  },
  {
   "cell_type": "code",
   "execution_count": 4,
   "metadata": {},
   "outputs": [
    {
     "name": "stdout",
     "output_type": "stream",
     "text": [
      "Advertencia se acerca un asteroide muy rapido\n"
     ]
    }
   ],
   "source": [
    "speedAsteroid = 26\n",
    "\n",
    "if speedAsteroid > 25:\n",
    "  print(\"Advertencia se acerca un asteroide muy rapido\")\n",
    "else:\n",
    "  print('Todo bien sigue asi')"
   ]
  },
  {
   "cell_type": "markdown",
   "metadata": {},
   "source": [
    "# Agrega el código para crear una variable para un asteroide que viaja a 19 km/s\n",
    "# Escribe varias expresiones de prueba para determinar si puedes ver el rayo de luz desde la tierra\n",
    "# Agrega las instrucciones que se ejecutarán si las expresiones de prueba son True o False"
   ]
  },
  {
   "cell_type": "code",
   "execution_count": 6,
   "metadata": {},
   "outputs": [
    {
     "name": "stdout",
     "output_type": "stream",
     "text": [
      "Puedes ver el rayo\n"
     ]
    }
   ],
   "source": [
    "speedAsteroid = 20\n",
    "\n",
    "if speedAsteroid >= 20:\n",
    "  print('Puedes ver el rayo')\n",
    "else:\n",
    "  print('No puedes ver el rayo')"
   ]
  },
  {
   "cell_type": "markdown",
   "metadata": {},
   "source": [
    "# Agrega el código para crear nuevas variables para la velocidad y el tamaño del asteroide\n",
    "# Para probar el código, prueba con varias velocidades y tamaños\n",
    "# Escribe varias expresiones de prueba o combinaciones de expresiones de prueba para determinar qué mensaje se debe enviar a Tierra."
   ]
  },
  {
   "cell_type": "code",
   "execution_count": 11,
   "metadata": {},
   "outputs": [
    {
     "name": "stdout",
     "output_type": "stream",
     "text": [
      "Sigue en lo tuyo\n"
     ]
    }
   ],
   "source": [
    "speedAsteroid = 10\n",
    "sizeAsteroid = 10\n",
    "\n",
    "if speedAsteroid > 25 and sizeAsteroid > 25:\n",
    "  print('Alerta asteoride peligroso')\n",
    "elif speedAsteroid >= 20:\n",
    "  print('Puedes ver el rayo')\n",
    "else:\n",
    "  print('Sigue en lo tuyo')"
   ]
  }
 ],
 "metadata": {
  "interpreter": {
   "hash": "6e82c4c6859ff44c5ac5d0b812fe5a23106e52b81a5db5555ef903c501738654"
  },
  "kernelspec": {
   "display_name": "Python 3.10.2 64-bit",
   "language": "python",
   "name": "python3"
  },
  "language_info": {
   "codemirror_mode": {
    "name": "ipython",
    "version": 3
   },
   "file_extension": ".py",
   "mimetype": "text/x-python",
   "name": "python",
   "nbconvert_exporter": "python",
   "pygments_lexer": "ipython3",
   "version": "3.10.2"
  },
  "orig_nbformat": 4
 },
 "nbformat": 4,
 "nbformat_minor": 2
}
