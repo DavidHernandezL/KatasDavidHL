{
 "cells": [
  {
   "cell_type": "markdown",
   "metadata": {},
   "source": [
    "# Ejercicio 1: Transformar cadenas\n"
   ]
  },
  {
   "cell_type": "code",
   "execution_count": 2,
   "metadata": {},
   "outputs": [
    {
     "name": "stdout",
     "output_type": "stream",
     "text": [
      "On average, the Moon moves 4cm away from the Earth every year\n",
      "The highest daylight temperature of the Moon is 127 Celsius.\n"
     ]
    }
   ],
   "source": [
    "texto = \"\"\"Interesting facts about the Moon. The Moon is Earth's only satellite. There are several interesting facts about the Moon and how it affects life here on Earth. On average, the Moon moves 4cm away from the Earth every year. This yearly drift is not significant enough to cause immediate effects on Earth. The highest daylight temperature of the Moon is 127 C.\"\"\"\n",
    "\n",
    "\n",
    "# Primero, divide el texto en cada oración para trabajar con su contenido\n",
    "\n",
    "oraciones = texto.split('. ')\n",
    "\n",
    "# Define las palabras pista: average, temperature y distance suenan bien\n",
    "\n",
    "palabraClave = ['average','temperature','distance']\n",
    "\n",
    "# Ciclo for para recorrer la cadena\n",
    "\n",
    "for oracion in oraciones:\n",
    "  for clave in palabraClave:\n",
    "    if clave in oracion:\n",
    "      print(oracion.replace('C','Celsius'))\n",
    "      break\n",
    "\n",
    "# Ciclo para cambiar C a Celsius\n",
    "\n"
   ]
  },
  {
   "cell_type": "markdown",
   "metadata": {},
   "source": [
    "# Ejercicio 2: Formateando Cadenas"
   ]
  },
  {
   "cell_type": "code",
   "execution_count": 5,
   "metadata": {},
   "outputs": [
    {
     "name": "stdout",
     "output_type": "stream",
     "text": [
      "Interesantes datos acerca de Moon\n",
      "---------------------------------\n",
      "Planeta: Earth\n",
      "Gravedad: 1.6199999999999999 m/s²\n",
      "\n",
      "\n",
      "Interesantes datos acerca de Moon\n",
      "---------------------------------\n",
      "Planeta: Earth\n",
      "Gravedad: 1.6199999999999999 m/s²\n",
      "\n",
      "\n",
      "Interesantes datos acerca de Ganímedes\n",
      "----------------------------------------------------------\n",
      "Planeta: Marte \n",
      "Gravedad 1.4300000000000002 m/s²\n"
     ]
    }
   ],
   "source": [
    "# Datos con los que vas a trabajar\n",
    "nombre = \"Moon\"\n",
    "gravedad = 0.00162 # in kms\n",
    "planeta = \"Earth\"\n",
    "\n",
    "#Primero, crea un título para el texto. Debido a que este texto trata sobre la gravedad en la Tierra y la Luna, úsalo para crear un título significativo. Utiliza las variables en lugar de escribir.\n",
    "\n",
    "# Creamos el título\n",
    "titulo = f'Interesantes datos acerca de {nombre}\\n'\n",
    "\n",
    "#Ahora crea una plantilla de cadena multilínea para contener el resto de la información. En lugar de usar kilómetros, debes convertir la distancia a metros multiplicando por 1,000.\n",
    "# Creamos la plantilla\n",
    "\n",
    "informacion = f\"\"\"---------------------------------\n",
    "Planeta: {planeta}\n",
    "Gravedad: {gravedad * 1000} m/s²\n",
    "\n",
    "\"\"\"\n",
    "\n",
    "#Finalmente, usa ambas variables para unir el título y los hechos.\n",
    "# Unión de ambas cadenas\n",
    "\n",
    "plantilla = titulo + informacion\n",
    "\n",
    "print(plantilla)\n",
    "\n",
    "#Ahora usa información de una luna diferente para ver si la plantilla todavía funciona.\n",
    "\n",
    "#Datos muestra:\n",
    "\n",
    "planeta = 'Marte '\n",
    "gravedad  = 0.00143\n",
    "nombre = 'Ganímedes'\n",
    "# Comprueba la plantilla\n",
    "print(plantilla)\n",
    "\n",
    "#La salida no muestra información sobre Marte. Todavía muestra información sobre la Luna. Esto sucede porque las cadenas f están ansiosas en su evaluación, por lo que las variables una vez asignadas no se pueden reasignar. Para evitar este problema, vuelva a hacer la plantilla para utilizar .format():\n",
    "\n",
    "# Nueva plantilla\n",
    "#Debido a que .format() no permite expresiones, la gravedad en Ganímedes es incorrecta. Asegúrese de que la operación se realiza fuera de la plantilla de formato e imprima de nuevo para ver el resultado de trabajo.\n",
    "nueva_plantilla = \"\"\"Interesantes datos acerca de {nombre}\n",
    "----------------------------------------------------------\n",
    "Planeta: {planeta}\n",
    "Gravedad {gravedad} m/s²\"\"\"\n",
    "print(nueva_plantilla.format(nombre = nombre, planeta = planeta, gravedad = gravedad * 1000))\n",
    "\n",
    "\n"
   ]
  }
 ],
 "metadata": {
  "interpreter": {
   "hash": "0a4c661d199a05ca25313c12e005ac137af6088ee425dd9950f4e1e4987abe55"
  },
  "kernelspec": {
   "display_name": "Python 3.10.2 64-bit (windows store)",
   "language": "python",
   "name": "python3"
  },
  "language_info": {
   "codemirror_mode": {
    "name": "ipython",
    "version": 3
   },
   "file_extension": ".py",
   "mimetype": "text/x-python",
   "name": "python",
   "nbconvert_exporter": "python",
   "pygments_lexer": "ipython3",
   "version": "3.10.2"
  },
  "orig_nbformat": 4
 },
 "nbformat": 4,
 "nbformat_minor": 2
}
