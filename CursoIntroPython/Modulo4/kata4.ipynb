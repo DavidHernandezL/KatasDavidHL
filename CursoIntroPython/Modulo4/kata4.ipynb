{
 "cells": [
  {
   "cell_type": "markdown",
   "metadata": {},
   "source": [
    "# Ejercicio 1: Transformar cadenas\n"
   ]
  },
  {
   "cell_type": "code",
   "execution_count": 2,
   "metadata": {},
   "outputs": [
    {
     "name": "stdout",
     "output_type": "stream",
     "text": [
      "On average, the Moon moves 4cm away from the Earth every year\n",
      "The highest daylight temperature of the Moon is 127 Celsius.\n"
     ]
    }
   ],
   "source": [
    "texto = \"\"\"Interesting facts about the Moon. The Moon is Earth's only satellite. There are several interesting facts about the Moon and how it affects life here on Earth. On average, the Moon moves 4cm away from the Earth every year. This yearly drift is not significant enough to cause immediate effects on Earth. The highest daylight temperature of the Moon is 127 C.\"\"\"\n",
    "\n",
    "\n",
    "# Primero, divide el texto en cada oración para trabajar con su contenido\n",
    "\n",
    "oraciones = texto.split('. ')\n",
    "\n",
    "# Define las palabras pista: average, temperature y distance suenan bien\n",
    "\n",
    "palabraClave = ['average','temperature','distance']\n",
    "\n",
    "# Ciclo for para recorrer la cadena\n",
    "\n",
    "for oracion in oraciones:\n",
    "  for clave in palabraClave:\n",
    "    if clave in oracion:\n",
    "      print(oracion.replace('C','Celsius'))\n",
    "      break\n",
    "\n",
    "# Ciclo para cambiar C a Celsius\n",
    "\n"
   ]
  }
 ],
 "metadata": {
  "interpreter": {
   "hash": "0a4c661d199a05ca25313c12e005ac137af6088ee425dd9950f4e1e4987abe55"
  },
  "kernelspec": {
   "display_name": "Python 3.10.2 64-bit (windows store)",
   "language": "python",
   "name": "python3"
  },
  "language_info": {
   "codemirror_mode": {
    "name": "ipython",
    "version": 3
   },
   "file_extension": ".py",
   "mimetype": "text/x-python",
   "name": "python",
   "nbconvert_exporter": "python",
   "pygments_lexer": "ipython3",
   "version": "3.10.2"
  },
  "orig_nbformat": 4
 },
 "nbformat": 4,
 "nbformat_minor": 2
}
