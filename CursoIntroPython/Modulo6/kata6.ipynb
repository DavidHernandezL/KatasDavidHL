{
 "cells": [
  {
   "cell_type": "markdown",
   "metadata": {},
   "source": [
    "# Ejercicio1: Crear y usar listas de Python\n",
    "Ejercicio: Usar listas para almacenar nombres de planeta"
   ]
  },
  {
   "cell_type": "code",
   "execution_count": 1,
   "metadata": {},
   "outputs": [
    {
     "name": "stdout",
     "output_type": "stream",
     "text": [
      "['Mercurio', 'Venus', 'Tierra', 'Marte', 'Jupiter', 'Saturno', 'Urano', 'Neptuno']\n",
      "Numero de planetas:  9\n",
      "El  ultimo planeta es:  Pluton\n"
     ]
    }
   ],
   "source": [
    "# Creamos la lista planets y la mostramos\n",
    "planets = ['Mercurio','Venus','Tierra','Marte','Jupiter','Saturno','Urano','Neptuno']\n",
    "\n",
    "print(planets)\n",
    "\n",
    "# Agregamos a plutón y mostramos el último elemento\n",
    "planets.append('Pluton')\n",
    "\n",
    "print('Numero de planetas: ',len(planets))\n",
    "print('El  ultimo planeta es: ',planets[-1])\n"
   ]
  },
  {
   "cell_type": "markdown",
   "metadata": {},
   "source": [
    "# Ejercicio 2: Trabajando con datos de una lista\n",
    "Usar slices para recuperar partes de una lista"
   ]
  },
  {
   "cell_type": "code",
   "execution_count": 3,
   "metadata": {},
   "outputs": [
    {
     "name": "stdout",
     "output_type": "stream",
     "text": [
      "Los planetas mas cercanos son:  ['Mercury', 'Venus', 'Earth']\n",
      "Los planetas mas lejanos son:  ['Jupiter', 'Saturn', 'Neptune']\n"
     ]
    }
   ],
   "source": [
    "# Lista de planetas\n",
    "planets = ['Mercury', 'Venus', 'Earth', 'Mars', 'Jupiter', 'Saturn', 'Neptune']\n",
    "\n",
    "# Solicitamos el nombre de un planeta *Pista:  input()*\n",
    "\n",
    "planeta = input('Ingrese el nombre del planeta: (La primera letra en MAYUSCULA)')\n",
    "\n",
    "# Busca el planeta en la lista\n",
    "\n",
    "indice = planets.index(planeta)\n",
    "\n",
    "# Muestra los planetas más cercanos al sol\n",
    "\n",
    "print('Los planetas mas cercanos son: ',planets[:indice])\n",
    "\n",
    "# Muestra los planetas más lejanos al sol\n",
    "\n",
    "print('Los planetas mas lejanos son: ',planets[indice + 1:])"
   ]
  }
 ],
 "metadata": {
  "interpreter": {
   "hash": "0a4c661d199a05ca25313c12e005ac137af6088ee425dd9950f4e1e4987abe55"
  },
  "kernelspec": {
   "display_name": "Python 3.10.2 64-bit (windows store)",
   "language": "python",
   "name": "python3"
  },
  "language_info": {
   "codemirror_mode": {
    "name": "ipython",
    "version": 3
   },
   "file_extension": ".py",
   "mimetype": "text/x-python",
   "name": "python",
   "nbconvert_exporter": "python",
   "pygments_lexer": "ipython3",
   "version": "3.10.2"
  },
  "orig_nbformat": 4
 },
 "nbformat": 4,
 "nbformat_minor": 2
}
