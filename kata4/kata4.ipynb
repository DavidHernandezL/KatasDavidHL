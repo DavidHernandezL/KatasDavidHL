{
 "cells": [
  {
   "cell_type": "code",
   "execution_count": null,
   "metadata": {},
   "outputs": [],
   "source": [
    "text = \"\"\"Interesting facts about the Moon. The Moon is Earth's only satellite. There are several interesting facts about the Moon and how it affects life here on Earth. On average, the Moon moves 4cm away from the Earth every year. This yearly drift is not significant enough to cause immediate effects on Earth. The highest daylight temperature of the Moon is 127 C.\"\"\"\n",
    "\n"
   ]
  },
  {
   "cell_type": "markdown",
   "metadata": {},
   "source": [
    "# Ejercicio 1\n",
    "* Primero, divide el texto en cada oración para trabajar con su contenido:\n",
    "* Ahora, define algunas palabras clave para búsqueda que te ayudarán a determinar si una oración contiene un hecho.\n",
    "* Crea un bucle para imprimir solo datos sobre la Luna que estén relacionados con las palabras clave definidas anteriormente:\n",
    "* Finalmente, actualiza el bucle(ciclo) para cambiar C a Celsius:"
   ]
  },
  {
   "cell_type": "markdown",
   "metadata": {},
   "source": []
  },
  {
   "cell_type": "code",
   "execution_count": 15,
   "metadata": {},
   "outputs": [
    {
     "name": "stdout",
     "output_type": "stream",
     "text": [
      "On average, the Moon moves 4cm away from the Earth every year\n",
      "The highest daylight temperature of the Moon is 127 C.\n",
      "On average, the Moon moves 4cm away from the Earth every year\n",
      "The highest daylight temperature of the Moon is 127 Celsius.\n"
     ]
    }
   ],
   "source": [
    "text = \"\"\"Interesting facts about the Moon. The Moon is Earth's only satellite. There are several interesting facts about the Moon and how it affects life here on Earth. On average, the Moon moves 4cm away from the Earth every year. This yearly drift is not significant enough to cause immediate effects on Earth. The highest daylight temperature of the Moon is 127 C.\"\"\"\n",
    "\n",
    "lines = text.split('. ')\n",
    "\n",
    "keyword = ['average', 'temperature' ,'distance']\n",
    "\n",
    "for line in lines:\n",
    "  for key in keyword:\n",
    "    if line.find(key) > 0:\n",
    "      print(line)\n",
    "      break\n",
    "##Remplazar C por Celsius\n",
    "\n",
    "for line in lines:\n",
    "  line = line.replace('C','Celsius')\n",
    "  for key in keyword:\n",
    "    if line.find(key) > 0:\n",
    "      print(line)\n",
    "      break\n"
   ]
  },
  {
   "cell_type": "markdown",
   "metadata": {},
   "source": [
    "# Ejercicio 2\n",
    "* Primero, crea un título para el texto. Debido a que este texto trata sobre la gravedad en la Tierra y la Luna, úsalo para crear un título significativo. Utiliza las variables en lugar de escribir.\n",
    "* Ahora crea una plantilla de cadena multilínea para contener el resto de la información. En lugar de usar kilómetros, debes convertir la distancia a metros multiplicando por 1,000.\n",
    "* Finalmente, usa ambas variables para unir el título y los hechos.\n",
    "* Ahora usa información de una luna diferente para ver si la plantilla todavía funciona.\n",
    "* La salida no muestra información sobre Marte. Todavía muestra información sobre la Luna. Esto sucede porque las cadenas f están ansiosas en su evaluación, por lo que las variables una vez asignadas no se pueden reasignar. Para evitar este problema, vuelva a hacer la plantilla para utilizar .format():\n",
    "* Debido a que .format() no permite expresiones, la gravedad en Ganímedes es incorrecta. Asegúrese de que la operación se realiza fuera de la plantilla de formato e imprima de nuevo para ver el resultado de trabajo."
   ]
  },
  {
   "cell_type": "code",
   "execution_count": 27,
   "metadata": {},
   "outputs": [
    {
     "name": "stdout",
     "output_type": "stream",
     "text": [
      "Earth And Moon\n",
      " ---------------------------------\n",
      "Planet name: Earth\n",
      "Gravity: 1.6199999999999999 m/s2\n",
      "\n",
      "Facts of Marte \n",
      "-------------------------------------\n",
      "Planet name: Marte \n",
      "Gravity: 1.4300000000000002 m/s2\n",
      "\n"
     ]
    }
   ],
   "source": [
    "# Datos con los que vas a trabajar\n",
    "name = \"Moon\"\n",
    "gravity = 0.00162 # in kms\n",
    "planet = \"Earth\"\n",
    "\n",
    "#Crea un titulo\n",
    "\n",
    "title = f'{planet} and {name}\\n'\n",
    "\n",
    "# Creamos la plantilla\n",
    "\n",
    "info = f\"\"\"---------------------------------\n",
    "Planet name: {planet}\n",
    "Gravity: {gravity * 1000} m/s2\\n\"\"\"\n",
    "\n",
    "# Unión de ambas cadenas\n",
    "\n",
    "template = f'{title.title()} {info}'\n",
    "print(template)\n",
    "\n",
    "planet = 'Marte '\n",
    "gravity  = 0.00143\n",
    "name = 'Ganímedes'\n",
    "\n",
    "templateFormat = \"\"\"Facts of {planet}\n",
    "-------------------------------------\n",
    "Planet name: {planet}\n",
    "Gravity: {gravity} m/s2\\n\"\"\"\n",
    "print(templateFormat.format(planet = planet,gravity = gravity * 1000,name = name))\n"
   ]
  }
 ],
 "metadata": {
  "interpreter": {
   "hash": "6e82c4c6859ff44c5ac5d0b812fe5a23106e52b81a5db5555ef903c501738654"
  },
  "kernelspec": {
   "display_name": "Python 3.10.2 64-bit",
   "language": "python",
   "name": "python3"
  },
  "language_info": {
   "codemirror_mode": {
    "name": "ipython",
    "version": 3
   },
   "file_extension": ".py",
   "mimetype": "text/x-python",
   "name": "python",
   "nbconvert_exporter": "python",
   "pygments_lexer": "ipython3",
   "version": "3.10.2"
  },
  "orig_nbformat": 4
 },
 "nbformat": 4,
 "nbformat_minor": 2
}
